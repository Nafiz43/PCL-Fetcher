{
 "cells": [
  {
   "cell_type": "code",
   "execution_count": null,
   "metadata": {},
   "outputs": [],
   "source": [
    "import pandas as pd\n",
    "import numpy as np\n",
    "import os\n",
    "import sys\n",
    "\n",
    "\n",
    "crosswalk = pd.read_csv('results/crosswalk_performance.csv')\n",
    "crosswalk = crosswalk.rename(columns={'Unnamed: 0': 'model'})\n",
    "crosswalk.drop(columns=['Sensitivity-Weighted', 'Specificity-Weighted','Precision', 'Precision-Weighted', 'F1-Score-Weighted', 'Model-Name'], inplace=True)\n",
    "crosswalk.insert(loc=0, column='Prompting Method', value=\"NA\")\n",
    "crosswalk.insert(loc=0, column='Model-Name', value=\"Cross-Walk\")\n",
    "crosswalk.insert(loc=0, column='Model Type', value=\"Benchmark\")\n",
    "crosswalk"
   ]
  },
  {
   "cell_type": "code",
   "execution_count": null,
   "metadata": {},
   "outputs": [],
   "source": [
    "df = pd.read_csv('results/all_models.csv')\n",
    "df.drop(columns=['Sensitivity-Weighted', 'Specificity-Weighted', 'Precision-Weighted', 'F1-Score-Weighted', 'Precision'], inplace=True)\n",
    "df['Modality']  = df['Modality'].str.replace(r\"[\\[\\],']\", '', regex=True)\n",
    "df"
   ]
  },
  {
   "cell_type": "code",
   "execution_count": null,
   "metadata": {},
   "outputs": [],
   "source": [
    "best_local_cot = df[df['Model-Name'] == 'CoT0qwen2.5_72b-FINA']\n",
    "best_local_ip = df[df['Model-Name'] == 'IPO0qwen2.5_72b-FINA']\n",
    "\n",
    "# best_cm_cot \n",
    "best_cm_ip  = df[df['Model-Name'] == 'IPO0anthropic.claude']\n",
    "best_cm_cot = df[df['Model-Name'] == 'CoT0anthropic.claude']"
   ]
  },
  {
   "cell_type": "code",
   "execution_count": null,
   "metadata": {},
   "outputs": [],
   "source": [
    "best_cm_ip.insert(loc=0, column='Prompting Method', value=\"IP\")\n",
    "best_cm_ip.drop(columns=['Model-Name'], inplace=True)\n",
    "\n",
    "best_cm_ip.insert(loc=0, column='Model-Name', value=\"Claude-3.5-Haiku\")\n",
    "best_cm_ip.insert(loc=0, column='Model Type', value=\"Commercial\")\n",
    "\n",
    "best_cm_ip"
   ]
  },
  {
   "cell_type": "code",
   "execution_count": null,
   "metadata": {},
   "outputs": [],
   "source": [
    "best_cm_cot.insert(loc=0, column='Prompting Method', value=\"CoT\")\n",
    "best_cm_cot.drop(columns=['Model-Name'], inplace=True)\n",
    "best_cm_cot.insert(loc=0, column='Model-Name', value=\"Claude-3.5-Haiku\")\n",
    "best_cm_cot.insert(loc=0, column='Model Type', value=\"Commercial\")\n",
    "best_cm_cot"
   ]
  },
  {
   "cell_type": "code",
   "execution_count": null,
   "metadata": {},
   "outputs": [],
   "source": [
    "best_local_cot.insert(loc=0, column='Prompting Method', value=\"CoT\")\n",
    "best_local_cot.drop(columns=['Model-Name'], inplace=True)\n",
    "best_local_cot.insert(loc=0, column='Model-Name', value=\"Qwen-2.5:72B\")\n",
    "best_local_cot.insert(loc=0, column='Model Type', value=\"Local\")\n",
    "best_local_cot"
   ]
  },
  {
   "cell_type": "code",
   "execution_count": null,
   "metadata": {},
   "outputs": [],
   "source": [
    "best_local_ip.insert(loc=0, column='Prompting Method', value=\"IP\")\n",
    "best_local_ip.drop(columns=['Model-Name'], inplace=True)\n",
    "best_local_ip.insert(loc=0, column='Model-Name', value=\"Qwen-2.5:72B\")\n",
    "best_local_ip.insert(loc=0, column='Model Type', value=\"Local\")\n",
    "best_local_ip"
   ]
  },
  {
   "cell_type": "code",
   "execution_count": null,
   "metadata": {},
   "outputs": [],
   "source": [
    "combined_df = pd.concat([crosswalk, best_local_ip, best_local_cot, best_cm_ip, best_cm_cot], axis=0, ignore_index=True)\n",
    "print(\"main performance table of the paper\")\n",
    "# combined_df.drop(columns=['Unnamed: 0'], inplace=True)\n",
    "combined_df"
   ]
  },
  {
   "cell_type": "code",
   "execution_count": null,
   "metadata": {},
   "outputs": [],
   "source": [
    "import pandas as pd\n",
    "\n",
    "# Let's assume rounded_df is your DataFrame\n",
    "from copy import deepcopy\n",
    "\n",
    "def apply_multirow(df, multirow_columns):\n",
    "    df = deepcopy(df)\n",
    "    for col in multirow_columns:\n",
    "        prev_val = None\n",
    "        count = 0\n",
    "\n",
    "        # First pass to count how many repeated rows per value\n",
    "        value_counts = []\n",
    "        for val in df[col]:\n",
    "            if val == prev_val:\n",
    "                count += 1\n",
    "            else:\n",
    "                if prev_val is not None:\n",
    "                    value_counts.append((prev_val, count))\n",
    "                prev_val = val\n",
    "                count = 1\n",
    "        value_counts.append((prev_val, count))\n",
    "\n",
    "        # Second pass to replace with \\multirow and blanks\n",
    "        i = 0\n",
    "        for val, span in value_counts:\n",
    "            if span == 1:\n",
    "                i += 1\n",
    "                continue\n",
    "            df.at[i, col] = f\"\\\\multirow{{{span}}}{{*}}{{{val}}}\"\n",
    "            for j in range(1, span):\n",
    "                df.at[i + j, col] = ''\n",
    "            i += span\n",
    "    return df\n",
    "\n",
    "# Specify which columns to apply multirow to\n",
    "cols_to_merge = ['Model Type', 'Model-Name', 'Prompting Method']\n",
    "df_multirow = apply_multirow(combined_df, cols_to_merge)\n",
    "\n",
    "latex_code = df_multirow.to_latex(\n",
    "    index=False,\n",
    "    caption=\"Performance Comparison of Models Across Modalities\",\n",
    "    label=\"tab:model-performance\",\n",
    "    column_format='|l|l|l|l|r|r|r|r|r|r|r|',\n",
    "    escape=False,\n",
    "    float_format=\"%.2f\"  # <<< forces rounding to 2 decimal places\n",
    ")\n",
    "\n",
    "# Add required package manually in your LaTeX preamble:\n",
    "# \\usepackage{multirow}\n",
    "\n",
    "print(\"LaTeX code for the main table:\")\n",
    "print(latex_code)\n"
   ]
  },
  {
   "cell_type": "markdown",
   "metadata": {},
   "source": [
    "## Table for Appendix"
   ]
  },
  {
   "cell_type": "code",
   "execution_count": null,
   "metadata": {},
   "outputs": [],
   "source": [
    "model_order = {\n",
    "    'medllama2': 0,\n",
    "    'mixtral': 1,\n",
    "    'llama3.3': 2,\n",
    "    'llama3-med-42': 3\n",
    "}\n",
    "\n",
    "# Step 2: Extract model family from 'Model-Name'\n",
    "def extract_family(name):\n",
    "    name = name.lower()\n",
    "    if 'medllama2' in name:\n",
    "        return 'medllama2'\n",
    "    elif 'mixtral' in name:\n",
    "        return 'mixtral'\n",
    "    elif 'llama3.3' in name:\n",
    "        return 'llama3.3'\n",
    "    else:\n",
    "        return 'llama3-med-42'\n",
    "\n",
    "def sort_dataframe(df):\n",
    "        \n",
    "    df['model_family'] = df['Model-Name'].apply(extract_family)\n",
    "    df.loc[df['model_family'] == 'medllama2', 'Model-Name'] = \"Medllama2:7B\"\n",
    "    df.loc[df['model_family'] == 'mixtral', 'Model-Name'] = \"Mixtral:8x7B\"\n",
    "    df.loc[df['model_family'] == 'llama3.3', 'Model-Name'] = \"Llama3.3:70B\"\n",
    "    df.loc[df['model_family'] == 'llama3-med-42', 'Model-Name'] = \"Llama3-Med42:70B\"\n",
    "\n",
    "    # print(df['model_family'])\n",
    "    # Step 3: Add sort key and sort\n",
    "    df['sort_key'] = df['model_family'].map(model_order)\n",
    "    sorted_df = df.sort_values(by='sort_key').drop(columns=['sort_key'])\n",
    "\n",
    "    # Optional: move 'model_family' to the end or drop it\n",
    "    sorted_df = sorted_df[[col for col in sorted_df.columns if col != 'model_family'] + ['model_family']]\n",
    "    return sorted_df\n",
    "\n",
    "\n",
    "df1 = df[~df['Model-Name'].str.contains('qwen2.5|claude|med42-8b|lama3_8b', case=False, na=False)]\n",
    "df1\n",
    "ip_content = df1[df1['Model-Name'].str.contains('IPO', case=False, na=False)]\n",
    "ip_content.insert(loc=0, column='Prompting Method', value=\"IP\")\n",
    "\n",
    "cot_content = df1[df1['Model-Name'].str.contains('CoT', case=False, na=False)]\n",
    "cot_content.insert(loc=0, column='Prompting Method', value=\"CoT\")\n",
    "\n",
    "appendix_df = pd.concat([ip_content, cot_content], axis=0, ignore_index=True)\n",
    "\n",
    "appendix_df= sort_dataframe(appendix_df)\n",
    "appendix_df.drop(columns=['model_family'], inplace=True)\n",
    "# appendix_df.insert(loc=0, column='Prompting Method', value=\"IP\")\n",
    "appendix_df.insert(loc=0, column='Model-Namex', value=appendix_df['Model-Name'])\n",
    "\n",
    "\n",
    "appendix_df.drop(columns=['Model-Name'], inplace=True)\n",
    "# appendix_df.insert(loc=0, column='Model Type', value=\"Local\")\n",
    "\n",
    "# Step 2: Define custom sort order for 'Modality'\n",
    "modality_order = ['All', 'VascularDiagnosis', 'VascularIntervention', 'NonVascularIntervention']\n",
    "\n",
    "# Step 3: Convert 'Modality' to categorical with defined order\n",
    "appendix_df['Modality'] = pd.Categorical(appendix_df['Modality'], categories=modality_order, ordered=True)\n",
    "\n",
    "# Step 4: Group by and sort\n",
    "appendix_df = appendix_df.groupby('Model-Namex').apply(\n",
    "    lambda group: group.sort_values(['Prompting Method', 'Modality'], ascending=[False, True])\n",
    ").reset_index(drop=True)\n",
    "\n",
    "appendix_df\n"
   ]
  },
  {
   "cell_type": "code",
   "execution_count": null,
   "metadata": {},
   "outputs": [],
   "source": [
    "cols_to_merge = ['Model-Namex']\n",
    "appendix_df = apply_multirow(appendix_df, cols_to_merge)\n",
    "\n",
    "latex_code = appendix_df.to_latex(\n",
    "    index=False,\n",
    "    # caption=\"Performance Comparison of Models Across Modalities\",\n",
    "    # label=\"tab:model-performance\",\n",
    "    # column_format='|l|l|l|l|r|r|r|r|r|r|r|',\n",
    "    escape=False,\n",
    "    float_format=\"%.2f\"  # <<< forces rounding to 2 decimal places\n",
    ")\n",
    "\n",
    "# Add required package manually in your LaTeX preamble:\n",
    "# \\usepackage{multirow}\n",
    "\n",
    "\n",
    "print(\"LaTeX code for the appendix table:\")\n",
    "print(latex_code)"
   ]
  },
  {
   "cell_type": "markdown",
   "metadata": {},
   "source": [
    "## Procedure Description Table Generation Code"
   ]
  },
  {
   "cell_type": "code",
   "execution_count": null,
   "metadata": {},
   "outputs": [],
   "source": [
    "\n",
    "df = pd.read_csv('data/Labeled_Reports_2025_02_14_V02.csv')\n",
    "df.drop(['Accession Number', 'Modality', 'Exam Code', 'Completed',\n",
    "       'Completed REG', 'Example Case List', 'Exam Description', 'Report Text', 'Resident'], axis=1, inplace=True)\n",
    "\n",
    "procedures = df.columns\n",
    "\n",
    "df = pd.DataFrame()\n",
    "\n",
    "df['# of Procedure'] = [i for i in range(1, 40)]\n",
    "df['Procedure'] = procedures\n",
    "\n",
    "modality = ['Vascular Diagonosis'] * 8 + \\\n",
    "           ['Vascular Intervention'] * 15 + \\\n",
    "           ['Non Vascular Intervention'] * 16\n",
    "\n",
    "# Assign the modality column\n",
    "df['Modality'] = modality\n",
    "\n",
    "df\n",
    "cols_to_merge = ['Modality']\n",
    "df_multirow = apply_multirow(df, cols_to_merge)\n",
    "\n",
    "latex_code = df_multirow.to_latex(\n",
    "    index=False,\n",
    "    escape=False,\n",
    ")\n",
    "print(latex_code)\n"
   ]
  },
  {
   "cell_type": "code",
   "execution_count": null,
   "metadata": {},
   "outputs": [],
   "source": []
  },
  {
   "cell_type": "code",
   "execution_count": null,
   "metadata": {},
   "outputs": [],
   "source": []
  }
 ],
 "metadata": {
  "kernelspec": {
   "display_name": "Python 3",
   "language": "python",
   "name": "python3"
  },
  "language_info": {
   "codemirror_mode": {
    "name": "ipython",
    "version": 3
   },
   "file_extension": ".py",
   "mimetype": "text/x-python",
   "name": "python",
   "nbconvert_exporter": "python",
   "pygments_lexer": "ipython3",
   "version": "3.10.12"
  }
 },
 "nbformat": 4,
 "nbformat_minor": 2
}
