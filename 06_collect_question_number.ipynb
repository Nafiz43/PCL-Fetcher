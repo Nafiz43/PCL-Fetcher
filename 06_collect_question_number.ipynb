{
 "cells": [
  {
   "cell_type": "code",
   "execution_count": null,
   "metadata": {},
   "outputs": [],
   "source": [
    "# This script collects question numbers from FN and FP files and generates annotated bar plots\n",
    "\n",
    "import re\n",
    "import numpy as np\n",
    "import pandas as pd\n",
    "import matplotlib.pyplot as plt\n",
    "from collections import Counter\n",
    "from PIL import Image\n",
    "\n",
    "def extract_question_counts(filepath, pattern=r\"QUESTION-(\\d+)\", total_questions=39):\n",
    "    with open(filepath, \"r\") as file:\n",
    "        text = file.read()\n",
    "    numbers = [int(num) for num in re.findall(pattern, text)]\n",
    "    counter = Counter(numbers)\n",
    "    all_numbers = list(range(1, total_questions + 1))\n",
    "    occurrences = [counter.get(num, 0) for num in all_numbers]\n",
    "    return all_numbers, occurrences\n",
    "\n",
    "fn_case_file_crosswalk = \"results/crosswalk_fn.txt\"\n",
    "fp_case_file_crosswalk = \"results/crosswalk_fp.txt\"\n",
    "\n",
    "\n",
    "fn_case_file_cm = \"results/CoT0anthropic.claude_FINAL.csv_false_negative_cases.txt\"\n",
    "fp_case_file_cm = \"results/CoT0anthropic.claude_FINAL.csv_false_positive_cases.txt\"\n",
    "\n",
    "\n",
    "fn_case_file_local = \"results/CoT0qwen2.5_72b-FINAL.csv_false_negative_cases.txt\"\n",
    "fp_case_file_local = \"results/CoT0qwen2.5_72b-FINAL.csv_false_positive_cases.txt\"\n",
    "\n",
    "\n",
    "all_numbers, occurrences_fn_crosswalk = extract_question_counts(fn_case_file_crosswalk)\n",
    "all_numbers, occurrences_fp_crosswalk = extract_question_counts(fp_case_file_crosswalk)\n",
    "\n",
    "all_numbers, occurrences_fn_cm = extract_question_counts(fn_case_file_cm)\n",
    "all_numbers, occurrences_fp_cm = extract_question_counts(fp_case_file_cm)\n",
    "\n",
    "all_numbers, occurrences_fn_local = extract_question_counts(fn_case_file_local)\n",
    "all_numbers, occurrences_fp_local = extract_question_counts(fp_case_file_local)\n",
    "\n",
    "\n",
    "all_numbers.append(\"Total\")\n",
    "occurrences_fp_crosswalk.append(np.sum(occurrences_fp_crosswalk)),\n",
    "occurrences_fn_crosswalk.append(np.sum(occurrences_fn_crosswalk)),\n",
    "occurrences_fp_cm.append(np.sum(occurrences_fp_cm)),\n",
    "occurrences_fn_cm.append(np.sum(occurrences_fn_cm)),\n",
    "occurrences_fp_local.append(np.sum(occurrences_fp_local)),\n",
    "occurrences_fn_local.append(np.sum(occurrences_fn_local)),"
   ]
  },
  {
   "cell_type": "code",
   "execution_count": null,
   "metadata": {},
   "outputs": [],
   "source": [
    "df = pd.DataFrame({\n",
    "    'Question Number': all_numbers,\n",
    "    'Crosswalk - FP': occurrences_fp_crosswalk,\n",
    "    'Crosswalk - FN': occurrences_fn_crosswalk,\n",
    "    'Claude - FP': occurrences_fp_cm,\n",
    "    'Claude - FN': occurrences_fn_cm,\n",
    "    'Qwen - FP': occurrences_fp_local,\n",
    "    'Qwen - FN': occurrences_fn_local\n",
    "})\n",
    "\n",
    "df"
   ]
  },
  {
   "cell_type": "code",
   "execution_count": null,
   "metadata": {},
   "outputs": [],
   "source": [
    "df = df.to_latex(index=False, escape=False,  float_format=\"%.2f\")\n",
    "print(df)"
   ]
  },
  {
   "cell_type": "code",
   "execution_count": null,
   "metadata": {},
   "outputs": [],
   "source": []
  }
 ],
 "metadata": {
  "kernelspec": {
   "display_name": "Python 3",
   "language": "python",
   "name": "python3"
  },
  "language_info": {
   "codemirror_mode": {
    "name": "ipython",
    "version": 3
   },
   "file_extension": ".py",
   "mimetype": "text/x-python",
   "name": "python",
   "nbconvert_exporter": "python",
   "pygments_lexer": "ipython3",
   "version": "3.10.12"
  }
 },
 "nbformat": 4,
 "nbformat_minor": 2
}
