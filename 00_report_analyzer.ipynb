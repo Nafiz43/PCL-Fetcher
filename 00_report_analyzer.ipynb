{
 "cells": [
  {
   "cell_type": "code",
   "execution_count": null,
   "id": "0e11c776",
   "metadata": {},
   "outputs": [],
   "source": [
    "import pandas as pd\n",
    "\n",
    "\n",
    "old_reports = pd.read_csv('data/Labeled_Reports_2025_02_14_V02.csv')\n",
    "print(len(old_reports))\n",
    "\n",
    "new_reports = pd.read_csv('data/Ground_Truth_2025_04_21_V02.xlsx - Ground_Truth.csv')\n",
    "print(len(new_reports))"
   ]
  },
  {
   "cell_type": "code",
   "execution_count": null,
   "id": "dd2818e0",
   "metadata": {},
   "outputs": [],
   "source": [
    "old_reports"
   ]
  },
  {
   "cell_type": "code",
   "execution_count": null,
   "id": "f0c6e93c",
   "metadata": {},
   "outputs": [],
   "source": [
    "old_reports['Accession Number'] = old_reports['Accession Number'].astype(str)\n",
    "new_reports['Accession Number'] = new_reports['Accession Number'].astype(str)\n",
    "\n",
    "# Identify overlaps\n",
    "overlapping_accessions = set(new_reports['Accession Number']) & set(old_reports['Accession Number'])\n",
    "\n",
    "# Count overlaps\n",
    "num_overlapping = len(overlapping_accessions)\n",
    "\n",
    "print(f\"Number of overlapping accession numbers: {num_overlapping}\")"
   ]
  },
  {
   "cell_type": "code",
   "execution_count": null,
   "id": "a537f654",
   "metadata": {},
   "outputs": [],
   "source": [
    "need_to_process = new_reports[~new_reports['Accession Number'].isin(overlapping_accessions)].copy()\n",
    "print(f\"Number of accession numbers that need to be processed: {len(need_to_process)}\")"
   ]
  },
  {
   "cell_type": "code",
   "execution_count": null,
   "id": "1aacccc7",
   "metadata": {},
   "outputs": [],
   "source": [
    "197+217"
   ]
  },
  {
   "cell_type": "code",
   "execution_count": null,
   "id": "23b4d2a6",
   "metadata": {},
   "outputs": [],
   "source": [
    "197*39"
   ]
  },
  {
   "cell_type": "code",
   "execution_count": null,
   "id": "3d28808d",
   "metadata": {},
   "outputs": [],
   "source": [
    "need_to_process.to_csv('data/Need_to_Process_May.csv', index=False)"
   ]
  },
  {
   "cell_type": "code",
   "execution_count": null,
   "id": "69f7f01d",
   "metadata": {},
   "outputs": [],
   "source": [
    "need_to_process"
   ]
  },
  {
   "cell_type": "code",
   "execution_count": null,
   "id": "7544a802",
   "metadata": {},
   "outputs": [],
   "source": [
    "llm_data = pd.read_csv('local_chat_history/IPO0qwen2.5_72b-FINAL.csv')\n",
    "llm_data[llm_data['accession_number'] == 202103230573]\n"
   ]
  },
  {
   "cell_type": "code",
   "execution_count": null,
   "id": "817175cb",
   "metadata": {},
   "outputs": [],
   "source": [
    "llm_data"
   ]
  },
  {
   "cell_type": "code",
   "execution_count": null,
   "id": "c6da0f41",
   "metadata": {},
   "outputs": [],
   "source": []
  }
 ],
 "metadata": {
  "kernelspec": {
   "display_name": "base",
   "language": "python",
   "name": "python3"
  },
  "language_info": {
   "codemirror_mode": {
    "name": "ipython",
    "version": 3
   },
   "file_extension": ".py",
   "mimetype": "text/x-python",
   "name": "python",
   "nbconvert_exporter": "python",
   "pygments_lexer": "ipython3",
   "version": "3.12.8"
  }
 },
 "nbformat": 4,
 "nbformat_minor": 5
}
